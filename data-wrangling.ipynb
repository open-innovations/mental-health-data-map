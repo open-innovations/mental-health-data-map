{
 "cells": [
  {
   "cell_type": "code",
   "execution_count": null,
   "id": "87f62c91-1e2a-4a21-8aa3-96c8d33b1044",
   "metadata": {},
   "outputs": [],
   "source": [
    "!pip install pandas openpyxl"
   ]
  },
  {
   "cell_type": "code",
   "execution_count": null,
   "id": "f2a88d1a-1fe3-46bb-a866-e60f76347a0a",
   "metadata": {},
   "outputs": [],
   "source": [
    "import os\n",
    "import pandas as pd\n",
    "import re"
   ]
  },
  {
   "cell_type": "code",
   "execution_count": null,
   "id": "12f76dbd-a2ac-4fee-b934-76b044bc64d4",
   "metadata": {},
   "outputs": [],
   "source": [
    "os.chdir('/home/jovyan/work')"
   ]
  },
  {
   "cell_type": "markdown",
   "id": "5182cfa1-a675-43d9-9983-7173ab5d58f9",
   "metadata": {},
   "source": [
    "Load the CCG list. This is the CCG21CD, and is the canonical reference for dataset creation"
   ]
  },
  {
   "cell_type": "code",
   "execution_count": null,
   "id": "828c45e7-f3d9-41d6-85cb-0b2b7bf6c62b",
   "metadata": {},
   "outputs": [],
   "source": [
    "ccg = pd.read_csv('data/ccg_lookup.csv')"
   ]
  },
  {
   "cell_type": "markdown",
   "id": "f2a48f5c-5463-42c0-ab29-417dadfbd7cc",
   "metadata": {},
   "source": [
    "Load the CCG to LAD lookup."
   ]
  },
  {
   "cell_type": "code",
   "execution_count": null,
   "id": "d7867be5-414e-4e8a-ae69-802f5e917f03",
   "metadata": {},
   "outputs": [],
   "source": [
    "ccg_lad_lookup = pd.read_csv('data/ccg_lad_lookup.csv')"
   ]
  },
  {
   "cell_type": "markdown",
   "id": "f45ae9ec-2360-43b5-af01-f07bf846ebcd",
   "metadata": {},
   "source": [
    "Load the population (manually prepared file)."
   ]
  },
  {
   "cell_type": "code",
   "execution_count": null,
   "id": "2a97027c-6cf7-48ed-bad0-41d1738464e6",
   "metadata": {},
   "outputs": [],
   "source": [
    "population = pd.read_csv('data/ons-population-estimates.csv').drop(columns=[\n",
    "    'CCG Name', 'STP21 Code', 'STP21 Name', 'NHSER21 Code', 'NHSER21 Name', \n",
    "])"
   ]
  },
  {
   "cell_type": "markdown",
   "id": "b7254348-8822-4296-b158-ca799ebb7205",
   "metadata": {},
   "source": [
    "Load the origin file and summarise by CCG. Sadly there are LAD20 LADs in the origin file, and LAD21 LADs in the reference data, so we lose some data."
   ]
  },
  {
   "cell_type": "code",
   "execution_count": null,
   "id": "f7efef36-41ce-4173-b794-8d7006e7dbf2",
   "metadata": {},
   "outputs": [],
   "source": [
    "origin = pd.read_excel(\n",
    "    './source/Origins By Local Authority 2021.xlsx',\n",
    "    na_filter=False\n",
    ")\n",
    "\n",
    "origin = origin[origin.LAD20CD.str.match('^E')].drop(\n",
    "    columns = [\n",
    "        'NWB%',\n",
    "       'AAA : ENGLISH (Weighted)', 'BAA : SCOTTISH (Weighted)',\n",
    "       'BAB : WELSH (Weighted)', 'BBA : NORTHERN IRISH', 'BBB : IRISH',\n",
    "       'CAA : SPANISH', 'CBA : FILIPINO', 'CCA : PORTUGESE OR BRAZILIAN',\n",
    "       'DAA : FRENCH OR WALLOON', 'DCA : DUTCH OR FLEMISH', 'DDA : GERMAN',\n",
    "       'DHA : ITALIAN OR MALTESE', 'DZZ : SCANDINAVIAN', 'EIA : POLISH',\n",
    "       'EJZ : CZECH OR SLOVAK', 'EKA : HUNGARIAN', 'ELZ : BALTIC STATES',\n",
    "       'EMF : ALBANIAN', 'EMZ : FORMERLY YUGOSLAV', 'ENA : BULGARIAN',\n",
    "       'EOA : ROMANIAN', 'EPZ : RUSSIAN OR UKRAINIAN',\n",
    "       'FAZ : GREEK OR GREEK CYPRIOT', 'GAA : JEWISH', 'GBA : ARMENIAN',\n",
    "       'HAA : BLACK CARIBBEAN (Weighted)', 'HBA : NIGERIAN', 'HCA : GHANAIAN',\n",
    "       'HDZ : BLACK SOUTH AFRICAN', 'HED : ETHIOPIAN',\n",
    "       'HZZ : OTHER BLACK AFRICAN', 'IAZ : NORTH AFRICAN MUSLIM',\n",
    "       'IBZ : SOMALI', 'ICA: TURKISH', 'IFA : IRANIAN', 'IHZ : PAKISTANI',\n",
    "       'IIZ : KASHMIRI', 'IKA : BANGLADESHI', 'IZZ : OTHER MUSLIM',\n",
    "       'JAA : SIKH', 'KAA : HINDU INDIAN', 'KBA : TAMIL OR SRI LANKAN',\n",
    "       'KCA : BANGLADESHI HINDU', 'LAA : JAPANESE', 'LAB : KOREAN',\n",
    "       'LBA : MANDARIN CHINESE', 'LBB : CANTONESE CHINESE', 'LCA : VIETNAMESE',\n",
    "       'LZZ : OTHER EAST ASIAN', 'UNKNOWN', 'XXX : UNCLASSIFIED AND OTHER',\n",
    "       'YYY : NOT RECOGNISED'\n",
    "    ]\n",
    ")\n",
    "origin = origin.merge(ccg_lad_lookup, how='right', left_on=['LAD20CD'], right_on=['LAD21CD'])\n",
    "origin = origin.groupby('CCG21CD').agg(sum)\n",
    "origin['NWB_pct'] = pd.Series(origin['NWB'] / origin['Population Total'] * 100).round(2)\n",
    "origin.to_csv('data/origin.csv')"
   ]
  },
  {
   "cell_type": "markdown",
   "id": "91ada93a-da2d-421e-8a9a-62ae22f97f15",
   "metadata": {},
   "source": [
    "Load the trust lookup file - this was derived from the IAPT file."
   ]
  },
  {
   "cell_type": "code",
   "execution_count": null,
   "id": "45842dec-9d71-4c0f-aacb-b695b8037799",
   "metadata": {},
   "outputs": [],
   "source": [
    "trust_lookup = pd.read_csv('data/trust_ccg_lookup.csv').drop(columns=['trust_name', 'ccg_name'])"
   ]
  },
  {
   "cell_type": "markdown",
   "id": "a8ca710a-1e88-4b4b-9220-d0067ceb0f93",
   "metadata": {},
   "source": [
    "Read the CMHS data and discard some columns, then summarise by CCG."
   ]
  },
  {
   "cell_type": "code",
   "execution_count": null,
   "id": "d2c7db4b-629c-48ae-a0cd-dff33df5c758",
   "metadata": {},
   "outputs": [],
   "source": [
    "cmhs = pd.read_excel(\n",
    "    'source/CMHS.xlsx'\n",
    ").merge(\n",
    "    trust_lookup, left_on='Trust Code', right_on='trust_code'\n",
    ").merge(\n",
    "    ccg, on='CCG21CDH'\n",
    ").drop(\n",
    "    columns=['trust_code', 'Trust Code', 'Trust Name', 'CCG21CDH', 'CCG21NM']\n",
    ")\n",
    "\n",
    "cmhs = cmhs.drop(\n",
    "    columns=[x for x in cmhs.columns if not re.match(\"^(meanQ|CCG)\", x)]\n",
    ").groupby('CCG21CD').agg('mean')"
   ]
  },
  {
   "cell_type": "markdown",
   "id": "c46d24f3-071d-4b72-84fa-c81b7d7f20b3",
   "metadata": {},
   "source": [
    "Load the MHSDS data"
   ]
  },
  {
   "cell_type": "code",
   "execution_count": null,
   "id": "3156393f-b221-4d91-a388-deed9fbd8c64",
   "metadata": {},
   "outputs": [],
   "source": [
    "mhsds = pd.read_csv('source/MHSDS Data_Rstr_Sep_Nov_2020.csv', na_filter=False, header=[0,1])\n",
    "mhsds.columns = mhsds.columns.map('_'.join)\n",
    "mhsds.columns = [\n",
    "    'trust_code',\n",
    "    'reporting_period_start',\n",
    "    'Chemical restraint - Injection (Non Rapid Tranquillisation)_BAME',\n",
    "    'Chemical restraint - Injection (Non Rapid Tranquillisation)_Non-BAME',\n",
    "    'Chemical restraint - Injection (Non Rapid Tranquillisation)_Unknown/Not Stated',\n",
    "    'Chemical restraint - Injection (Rapid Tranquillisation)_BAME',\n",
    "    'Chemical restraint - Injection (Rapid Tranquillisation)_Non-BAME',\n",
    "    'Chemical restraint - Injection (Rapid Tranquillisation)_Unknown/Not Stated',\n",
    "    'Chemical restraint - Oral_BAME', 'Chemical restraint - Oral_Non-BAME',\n",
    "    'Chemical restraint - Oral_Unknown/Not Stated',\n",
    "    'Chemical restraint - Other (not listed)_BAME',\n",
    "    'Chemical restraint - Other (not listed)_Non-BAME',\n",
    "    'Chemical restraint - Other (not listed)_Unknown/Not Stated',\n",
    "    'Chemical Restraint_BAME', 'Chemical Restraint_Non-BAME',\n",
    "    'Chemical Restraint_Unknown/Not Stated', 'Mechanical restraint_BAME',\n",
    "    'Mechanical restraint_Non-BAME',\n",
    "    'Mechanical restraint_Unknown/Not Stated',\n",
    "    'Physical restraint - Kneeling_BAME',\n",
    "    'Physical restraint - Kneeling_Non-BAME',\n",
    "    'Physical restraint - Kneeling_Unknown/Not Stated',\n",
    "    'Physical restraint - Other (not listed)_BAME',\n",
    "    'Physical restraint - Other (not listed)_Non-BAME',\n",
    "    'Physical restraint - Other (not listed)_Unknown/Not Stated',\n",
    "    'Physical restraint - Prone_BAME',\n",
    "    'Physical restraint - Prone_Non-BAME',\n",
    "    'Physical restraint - Prone_Unknown/Not Stated',\n",
    "    'Physical restraint - Restrictive escort_BAME',\n",
    "    'Physical restraint - Restrictive escort_Non-BAME',\n",
    "    'Physical restraint - Restrictive escort_Unknown/Not Stated',\n",
    "    'Physical restraint - Seated_BAME',\n",
    "    'Physical restraint - Seated_Non-BAME',\n",
    "    'Physical restraint - Seated_Unknown/Not Stated',\n",
    "    'Physical restraint - Side_BAME', 'Physical restraint - Side_Non-BAME',\n",
    "    'Physical restraint - Side_Unknown/Not Stated',\n",
    "    'Physical restraint - Standing_BAME',\n",
    "    'Physical restraint - Standing_Non-BAME',\n",
    "    'Physical restraint - Standing_Unknown/Not Stated',\n",
    "    'Physical restraint - Supine_BAME',\n",
    "    'Physical restraint - Supine_Non-BAME',\n",
    "    'Physical restraint - Supine_Unknown/Not Stated',\n",
    "    'Physical Restraint_BAME', 'Physical Restraint_Non-BAME',\n",
    "    'Physical Restraint_Unknown/Not Stated', 'Seclusion_BAME',\n",
    "    'Seclusion_Non-BAME', 'Seclusion_Unknown/Not Stated',\n",
    "    'Segregation_BAME', 'Segregation_Non-BAME',\n",
    "    'Segregation_Unknown/Not Stated', 'UNKNOWN_BAME', 'UNKNOWN_Non-BAME',\n",
    "    'UNKNOWN_Unknown/Not Stated']\n",
    "mhsds = mhsds[~mhsds.trust_code.str.match('.*Average')].drop(columns=[\n",
    "       'Chemical restraint - Injection (Non Rapid Tranquillisation)_BAME',\n",
    "       'Chemical restraint - Injection (Non Rapid Tranquillisation)_Non-BAME',\n",
    "       'Chemical restraint - Injection (Non Rapid Tranquillisation)_Unknown/Not Stated',\n",
    "       'Chemical restraint - Injection (Rapid Tranquillisation)_BAME',\n",
    "       'Chemical restraint - Injection (Rapid Tranquillisation)_Non-BAME',\n",
    "       'Chemical restraint - Injection (Rapid Tranquillisation)_Unknown/Not Stated',\n",
    "       'Chemical restraint - Oral_BAME', 'Chemical restraint - Oral_Non-BAME',\n",
    "       'Chemical restraint - Oral_Unknown/Not Stated',\n",
    "       'Chemical restraint - Other (not listed)_BAME',\n",
    "       'Chemical restraint - Other (not listed)_Non-BAME',\n",
    "       'Chemical restraint - Other (not listed)_Unknown/Not Stated',\n",
    "       'Physical restraint - Kneeling_BAME',\n",
    "       'Physical restraint - Kneeling_Non-BAME',\n",
    "       'Physical restraint - Kneeling_Unknown/Not Stated',\n",
    "       'Physical restraint - Other (not listed)_BAME',\n",
    "       'Physical restraint - Other (not listed)_Non-BAME',\n",
    "       'Physical restraint - Other (not listed)_Unknown/Not Stated',\n",
    "       'Physical restraint - Prone_BAME',\n",
    "       'Physical restraint - Prone_Non-BAME',\n",
    "       'Physical restraint - Prone_Unknown/Not Stated',\n",
    "       'Physical restraint - Restrictive escort_BAME',\n",
    "       'Physical restraint - Restrictive escort_Non-BAME',\n",
    "       'Physical restraint - Restrictive escort_Unknown/Not Stated',\n",
    "       'Physical restraint - Seated_BAME',\n",
    "       'Physical restraint - Seated_Non-BAME',\n",
    "       'Physical restraint - Seated_Unknown/Not Stated',\n",
    "       'Physical restraint - Side_BAME', 'Physical restraint - Side_Non-BAME',\n",
    "       'Physical restraint - Side_Unknown/Not Stated',\n",
    "       'Physical restraint - Standing_BAME',\n",
    "       'Physical restraint - Standing_Non-BAME',\n",
    "       'Physical restraint - Standing_Unknown/Not Stated',\n",
    "       'Physical restraint - Supine_BAME',\n",
    "       'Physical restraint - Supine_Non-BAME',\n",
    "       'Physical restraint - Supine_Unknown/Not Stated'\n",
    "])"
   ]
  },
  {
   "cell_type": "code",
   "execution_count": null,
   "id": "468fdc0f-3a2e-4c6d-8840-342a5f920949",
   "metadata": {},
   "outputs": [],
   "source": [
    "mhsds = mhsds.merge(trust_lookup, how='left', on='trust_code').merge(ccg, how='left', on='CCG21CDH').groupby('CCG21CD').agg('mean')"
   ]
  },
  {
   "cell_type": "code",
   "execution_count": null,
   "id": "440b1ac4-3815-47fa-b104-262e4cdec72e",
   "metadata": {},
   "outputs": [],
   "source": [
    "data = ccg.merge(\n",
    "    population,\n",
    "    how='left',\n",
    "    left_on='CCG21CD',\n",
    "    right_on='CCG Code',\n",
    ").drop(\n",
    "    columns=['CCG Code']\n",
    ")\n",
    "data = data.merge(\n",
    "    origin,\n",
    "    how='left',\n",
    "    on='CCG21CD'\n",
    ")\n",
    "data = data.merge(\n",
    "    cmhs,\n",
    "    how='left',\n",
    "    on='CCG21CD',\n",
    ")\n",
    "data = data.merge(mhsds,\n",
    "    how='left',\n",
    "    on='CCG21CD'\n",
    ")"
   ]
  },
  {
   "cell_type": "markdown",
   "id": "a4ce88b5-0089-4b99-83dc-0e5698cc9277",
   "metadata": {},
   "source": [
    "Save the data as a json file"
   ]
  },
  {
   "cell_type": "code",
   "execution_count": null,
   "id": "63c79d69-494c-401d-a008-34e62f472e3c",
   "metadata": {},
   "outputs": [],
   "source": [
    "data.to_json('data/data.json')"
   ]
  },
  {
   "cell_type": "code",
   "execution_count": null,
   "id": "87002a53-86d5-46ea-8364-e033f4a9bf57",
   "metadata": {},
   "outputs": [],
   "source": []
  }
 ],
 "metadata": {
  "kernelspec": {
   "display_name": "Python 3 (ipykernel)",
   "language": "python",
   "name": "python3"
  },
  "language_info": {
   "codemirror_mode": {
    "name": "ipython",
    "version": 3
   },
   "file_extension": ".py",
   "mimetype": "text/x-python",
   "name": "python",
   "nbconvert_exporter": "python",
   "pygments_lexer": "ipython3",
   "version": "3.9.7"
  }
 },
 "nbformat": 4,
 "nbformat_minor": 5
}
