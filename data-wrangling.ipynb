{
 "cells": [
  {
   "cell_type": "code",
   "execution_count": null,
   "id": "87f62c91-1e2a-4a21-8aa3-96c8d33b1044",
   "metadata": {},
   "outputs": [],
   "source": [
    "!pip install pandas openpyxl"
   ]
  },
  {
   "cell_type": "code",
   "execution_count": null,
   "id": "f2a88d1a-1fe3-46bb-a866-e60f76347a0a",
   "metadata": {},
   "outputs": [],
   "source": [
    "import os\n",
    "import pandas as pd\n",
    "import re"
   ]
  },
  {
   "cell_type": "code",
   "execution_count": null,
   "id": "12f76dbd-a2ac-4fee-b934-76b044bc64d4",
   "metadata": {},
   "outputs": [],
   "source": [
    "os.chdir('/home/jovyan/work')"
   ]
  },
  {
   "cell_type": "code",
   "execution_count": null,
   "id": "828c45e7-f3d9-41d6-85cb-0b2b7bf6c62b",
   "metadata": {},
   "outputs": [],
   "source": [
    "ccg = pd.read_csv('data/ccg_lookup.csv')"
   ]
  },
  {
   "cell_type": "code",
   "execution_count": null,
   "id": "d7867be5-414e-4e8a-ae69-802f5e917f03",
   "metadata": {},
   "outputs": [],
   "source": [
    "ccg_lad_lookup = pd.read_csv('data/ccg_lad_lookup.csv')"
   ]
  },
  {
   "cell_type": "code",
   "execution_count": null,
   "id": "2a97027c-6cf7-48ed-bad0-41d1738464e6",
   "metadata": {},
   "outputs": [],
   "source": [
    "population = pd.read_csv('data/ons-population-estimates.csv').drop(columns=[\n",
    "    'CCG Name', 'STP21 Code', 'STP21 Name', 'NHSER21 Code', 'NHSER21 Name', \n",
    "])"
   ]
  },
  {
   "cell_type": "code",
   "execution_count": null,
   "id": "69ec83f7-3f14-45e2-9fc2-d2edb335838e",
   "metadata": {},
   "outputs": [],
   "source": [
    "data = ccg.merge(\n",
    "    population,\n",
    "    how='left',\n",
    "    left_on='CCG21CD',\n",
    "    right_on='CCG Code',\n",
    ").drop(\n",
    "    columns=['CCG Code']\n",
    ")"
   ]
  },
  {
   "cell_type": "code",
   "execution_count": null,
   "id": "f7efef36-41ce-4173-b794-8d7006e7dbf2",
   "metadata": {},
   "outputs": [],
   "source": [
    "origin = pd.read_excel(\n",
    "    './source/Origins By Local Authority 2021.xlsx',\n",
    "    na_filter=False\n",
    ")\n",
    "\n",
    "origin = origin[origin.LAD20CD.str.match('^E')].drop(\n",
    "    columns = [\n",
    "        'NWB%',\n",
    "       'AAA : ENGLISH (Weighted)', 'BAA : SCOTTISH (Weighted)',\n",
    "       'BAB : WELSH (Weighted)', 'BBA : NORTHERN IRISH', 'BBB : IRISH',\n",
    "       'CAA : SPANISH', 'CBA : FILIPINO', 'CCA : PORTUGESE OR BRAZILIAN',\n",
    "       'DAA : FRENCH OR WALLOON', 'DCA : DUTCH OR FLEMISH', 'DDA : GERMAN',\n",
    "       'DHA : ITALIAN OR MALTESE', 'DZZ : SCANDINAVIAN', 'EIA : POLISH',\n",
    "       'EJZ : CZECH OR SLOVAK', 'EKA : HUNGARIAN', 'ELZ : BALTIC STATES',\n",
    "       'EMF : ALBANIAN', 'EMZ : FORMERLY YUGOSLAV', 'ENA : BULGARIAN',\n",
    "       'EOA : ROMANIAN', 'EPZ : RUSSIAN OR UKRAINIAN',\n",
    "       'FAZ : GREEK OR GREEK CYPRIOT', 'GAA : JEWISH', 'GBA : ARMENIAN',\n",
    "       'HAA : BLACK CARIBBEAN (Weighted)', 'HBA : NIGERIAN', 'HCA : GHANAIAN',\n",
    "       'HDZ : BLACK SOUTH AFRICAN', 'HED : ETHIOPIAN',\n",
    "       'HZZ : OTHER BLACK AFRICAN', 'IAZ : NORTH AFRICAN MUSLIM',\n",
    "       'IBZ : SOMALI', 'ICA: TURKISH', 'IFA : IRANIAN', 'IHZ : PAKISTANI',\n",
    "       'IIZ : KASHMIRI', 'IKA : BANGLADESHI', 'IZZ : OTHER MUSLIM',\n",
    "       'JAA : SIKH', 'KAA : HINDU INDIAN', 'KBA : TAMIL OR SRI LANKAN',\n",
    "       'KCA : BANGLADESHI HINDU', 'LAA : JAPANESE', 'LAB : KOREAN',\n",
    "       'LBA : MANDARIN CHINESE', 'LBB : CANTONESE CHINESE', 'LCA : VIETNAMESE',\n",
    "       'LZZ : OTHER EAST ASIAN', 'UNKNOWN', 'XXX : UNCLASSIFIED AND OTHER',\n",
    "       'YYY : NOT RECOGNISED'\n",
    "    ]\n",
    ")\n",
    "origin = origin.merge(ccg_lad_lookup, how='right', left_on=['LAD20CD'], right_on=['LAD21CD'])\n",
    "origin = origin.groupby('CCG21CD').agg(sum)\n",
    "origin['NWB_pct'] = pd.Series(origin['NWB'] / origin['Population Total'] * 100).round(2)\n",
    "origin.to_csv('data/origin.csv')"
   ]
  },
  {
   "cell_type": "code",
   "execution_count": null,
   "id": "20f7e053-70c6-427d-aabb-87782e13c0fd",
   "metadata": {},
   "outputs": [],
   "source": [
    "data = data.merge(\n",
    "    origin,\n",
    "    how='left',\n",
    "    on='CCG21CD'\n",
    ")"
   ]
  },
  {
   "cell_type": "code",
   "execution_count": null,
   "id": "45842dec-9d71-4c0f-aacb-b695b8037799",
   "metadata": {},
   "outputs": [],
   "source": [
    "trust_lookup = pd.read_csv('data/trust_ccg_lookup.csv').drop(columns=['trust_name', 'ccg_name'])"
   ]
  },
  {
   "cell_type": "code",
   "execution_count": null,
   "id": "d2c7db4b-629c-48ae-a0cd-dff33df5c758",
   "metadata": {},
   "outputs": [],
   "source": [
    "cmhs = pd.read_excel(\n",
    "    'source/CMHS.xlsx'\n",
    ").merge(\n",
    "    trust_lookup, left_on='Trust Code', right_on='trust_code'\n",
    ").merge(\n",
    "    ccg, on='CCG21CDH'\n",
    ").drop(\n",
    "    columns=['trust_code', 'Trust Code', 'Trust Name', 'CCG21CDH', 'CCG21NM']\n",
    ")\n",
    "\n",
    "cmhs = cmhs.drop(\n",
    "    columns=[x for x in cmhs.columns if not re.match(\"^(meanQ|CCG)\", x)]\n",
    ").groupby('CCG21CD').agg('mean')"
   ]
  },
  {
   "cell_type": "code",
   "execution_count": null,
   "id": "a265b8cd-5fc4-4d23-9a6e-4683aaa91149",
   "metadata": {},
   "outputs": [],
   "source": [
    "data = data.merge(\n",
    "    cmhs,\n",
    "    how='left',\n",
    "    on='CCG21CD',\n",
    ")"
   ]
  },
  {
   "cell_type": "code",
   "execution_count": null,
   "id": "63c79d69-494c-401d-a008-34e62f472e3c",
   "metadata": {},
   "outputs": [],
   "source": [
    "data.to_json('data/data.json')"
   ]
  },
  {
   "cell_type": "code",
   "execution_count": null,
   "id": "b2224b7f-d329-4227-990c-18e8fb981b67",
   "metadata": {},
   "outputs": [],
   "source": []
  }
 ],
 "metadata": {
  "kernelspec": {
   "display_name": "Python 3 (ipykernel)",
   "language": "python",
   "name": "python3"
  },
  "language_info": {
   "codemirror_mode": {
    "name": "ipython",
    "version": 3
   },
   "file_extension": ".py",
   "mimetype": "text/x-python",
   "name": "python",
   "nbconvert_exporter": "python",
   "pygments_lexer": "ipython3",
   "version": "3.9.7"
  }
 },
 "nbformat": 4,
 "nbformat_minor": 5
}
