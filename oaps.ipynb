{
 "cells": [
  {
   "cell_type": "markdown",
   "id": "695c1d22-ad86-4fd7-9ed3-2bd8973695ea",
   "metadata": {},
   "source": [
    "Download and process Out of Area Placement Data"
   ]
  },
  {
   "cell_type": "code",
   "execution_count": null,
   "id": "50054282-4314-4a33-992c-d9245cf223dd",
   "metadata": {},
   "outputs": [],
   "source": [
    "!pip install pyarrow"
   ]
  },
  {
   "cell_type": "code",
   "execution_count": null,
   "id": "d356105c-02ea-40d5-91b3-745c8fa861d6",
   "metadata": {},
   "outputs": [],
   "source": [
    "import os\n",
    "import pandas as pd"
   ]
  },
  {
   "cell_type": "code",
   "execution_count": null,
   "id": "06ebafff-2c5a-4288-a6e8-f850d8bd152f",
   "metadata": {},
   "outputs": [],
   "source": [
    "os.chdir('/home/jovyan/work')"
   ]
  },
  {
   "cell_type": "code",
   "execution_count": null,
   "id": "865bb2d9-51b0-4722-a122-2c76522e4770",
   "metadata": {},
   "outputs": [],
   "source": [
    "source_url = 'https://files.digital.nhs.uk/78/092BF5/oaps-open-data-nov-2020.csv'\n",
    "parquet_file = 'scratch/oaps.parquet'\n",
    "try:\n",
    "    data = pd.read_parquet(parquet_file)\n",
    "except:\n",
    "    data = pd.read_csv(source_url)\n",
    "    data.to_parquet(parquet_file)"
   ]
  },
  {
   "cell_type": "code",
   "execution_count": null,
   "id": "996b4a3e-34a0-42fe-9d25-e1c478aa2acd",
   "metadata": {},
   "outputs": [],
   "source": [
    "output_data = data.loc[\n",
    "    (data.Grouping == 'ThreeMonth') &\n",
    "    (data.Question.isin(['Inappropriate OAPs active at period end', 'Total Cost For Inappropriate OAPs in Period'])) &\n",
    "    (data.PublicationPeriod == '01/09/2020-30/11/2020') &\n",
    "    (data.Breakdown1 == 'Ccg')\n",
    "].pivot(index='Breakdown1Code', columns='Question', values='Value').drop(index=['England'])\n",
    "output_data.index.name='CCG21CDH'"
   ]
  },
  {
   "cell_type": "code",
   "execution_count": null,
   "id": "ad6349de-9b20-479a-bcd7-75d1f5e47492",
   "metadata": {},
   "outputs": [],
   "source": [
    "output_data.to_csv('data/oaps-open-data-nov-2020.processed.csv')"
   ]
  },
  {
   "cell_type": "code",
   "execution_count": null,
   "id": "c507cc7d-d39c-4f0f-ba28-a8f9546faa81",
   "metadata": {},
   "outputs": [],
   "source": []
  }
 ],
 "metadata": {
  "kernelspec": {
   "display_name": "Python 3 (ipykernel)",
   "language": "python",
   "name": "python3"
  },
  "language_info": {
   "codemirror_mode": {
    "name": "ipython",
    "version": 3
   },
   "file_extension": ".py",
   "mimetype": "text/x-python",
   "name": "python",
   "nbconvert_exporter": "python",
   "pygments_lexer": "ipython3",
   "version": "3.9.7"
  }
 },
 "nbformat": 4,
 "nbformat_minor": 5
}
