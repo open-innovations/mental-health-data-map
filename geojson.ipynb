{
 "cells": [
  {
   "cell_type": "code",
   "execution_count": null,
   "id": "a82a3b89-54fb-4ac2-b7ad-388fa3b90ea2",
   "metadata": {},
   "outputs": [],
   "source": [
    "!pip install requests geojson"
   ]
  },
  {
   "cell_type": "code",
   "execution_count": null,
   "id": "6f7b3531-8774-46fd-8d36-0f66ba5a8f99",
   "metadata": {},
   "outputs": [],
   "source": [
    "import requests\n",
    "import geojson"
   ]
  },
  {
   "cell_type": "code",
   "execution_count": null,
   "id": "38c95f4d-5122-4fe4-872c-db4ba949f3f4",
   "metadata": {},
   "outputs": [],
   "source": [
    "ccg20_source='http://geoportal1-ons.opendata.arcgis.com/datasets/dbfaf69873794690af4acddaf581572f_1.geojson?outSR={%22latestWkid%22:27700,%22wkid%22:27700}'\n",
    "layer20 = geojson.loads(requests.get(ccg20_source).text)\n",
    "del layer20.crs\n",
    "with open('data/ccg20.geojson', 'w') as f:\n",
    "    f.write(geojson.dumps(layer20))"
   ]
  },
  {
   "cell_type": "code",
   "execution_count": null,
   "id": "1297eca5-11ff-4de3-823d-80ecc39c4019",
   "metadata": {},
   "outputs": [],
   "source": [
    "ccg21_source='https://opendata.arcgis.com/api/v3/datasets/cc809776cf3e469ab13576280945cc41_0/downloads/data?format=geojson&spatialRefId=4326'\n",
    "layer21 = geojson.loads(requests.get(ccg21_source).text)\n",
    "del layer21.crs\n",
    "with open('data/ccg21.geojson', 'w') as f:\n",
    "    f.write(geojson.dumps(layer21))"
   ]
  },
  {
   "cell_type": "code",
   "execution_count": null,
   "id": "55fe9658-0361-41d9-b8cd-c8d8772027a9",
   "metadata": {},
   "outputs": [],
   "source": []
  }
 ],
 "metadata": {
  "kernelspec": {
   "display_name": "Python 3 (ipykernel)",
   "language": "python",
   "name": "python3"
  },
  "language_info": {
   "codemirror_mode": {
    "name": "ipython",
    "version": 3
   },
   "file_extension": ".py",
   "mimetype": "text/x-python",
   "name": "python",
   "nbconvert_exporter": "python",
   "pygments_lexer": "ipython3",
   "version": "3.9.7"
  }
 },
 "nbformat": 4,
 "nbformat_minor": 5
}
