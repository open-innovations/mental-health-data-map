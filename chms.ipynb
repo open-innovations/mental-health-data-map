{
 "cells": [
  {
   "cell_type": "markdown",
   "id": "695c1d22-ad86-4fd7-9ed3-2bd8973695ea",
   "metadata": {},
   "source": [
    "Download and process Out of Area Placement Data"
   ]
  },
  {
   "cell_type": "code",
   "execution_count": null,
   "id": "50054282-4314-4a33-992c-d9245cf223dd",
   "metadata": {},
   "outputs": [],
   "source": [
    "!pip install pandas pyarrow odfpy"
   ]
  },
  {
   "cell_type": "code",
   "execution_count": null,
   "id": "d356105c-02ea-40d5-91b3-745c8fa861d6",
   "metadata": {},
   "outputs": [],
   "source": [
    "import os\n",
    "import pandas as pd"
   ]
  },
  {
   "cell_type": "code",
   "execution_count": null,
   "id": "06ebafff-2c5a-4288-a6e8-f850d8bd152f",
   "metadata": {},
   "outputs": [],
   "source": [
    "os.chdir('/home/jovyan/work')"
   ]
  },
  {
   "cell_type": "markdown",
   "id": "3b3a6ba0-0f13-4aeb-9933-e2d2125fd6f0",
   "metadata": {},
   "source": [
    "Load file from URL, and stitch two sheets together (respondents and scores). Save this as a parquet file, to prevent having to retreive in future. Delete the file to force a download."
   ]
  },
  {
   "cell_type": "code",
   "execution_count": null,
   "id": "865bb2d9-51b0-4722-a122-2c76522e4770",
   "metadata": {},
   "outputs": [],
   "source": [
    "source_url = 'https://www.cqc.org.uk/sites/default/files/20211201_cmh21_BenchmarkData%20V1.ods'\n",
    "parquet_file = 'scratch/chms.parquet'\n",
    "try:\n",
    "    data = pd.read_parquet(parquet_file)\n",
    "except:\n",
    "    respondents = pd.read_excel(source_url, sheet_name='CMH21_Trust_Respondents')\n",
    "    scores = pd.read_excel(source_url, sheet_name='CMH21_Trust_Scores').drop(columns=['Trustname'])\n",
    "    data = respondents.merge(scores, left_on='TrustCode', right_on='Trustcode').drop(columns=['Trustcode'])\n",
    "    data.to_parquet(parquet_file)"
   ]
  },
  {
   "cell_type": "markdown",
   "id": "93114e2a-f343-4b4f-a283-2a4a31819693",
   "metadata": {},
   "source": [
    "Load some reference data"
   ]
  },
  {
   "cell_type": "code",
   "execution_count": null,
   "id": "91283492-1015-4488-a535-eaa7ffb6d016",
   "metadata": {},
   "outputs": [],
   "source": [
    "ccg = pd.read_csv('data/ref_ccg21.csv')\n",
    "trust_lookup = pd.read_csv('data/trust_ccg_lookup_ods_datapoint.csv').drop(columns=['Name', 'Primary Role Name', 'Geographic Primary Care Organisation Name'])\n",
    "trust_lookup.columns = ['TrustCode', 'CCG21CDH']\n",
    "trust_lookup = trust_lookup.merge(ccg).drop(columns=['CCG21NM'])"
   ]
  },
  {
   "cell_type": "markdown",
   "id": "735ca8bf-0507-4b6e-b915-57b330b76980",
   "metadata": {},
   "source": [
    "Reshape the CMHS data by dropping some columns, and merging with the CCG info. Write a file of failed lines, then summarise by CCG. Reformat the file then write out."
   ]
  },
  {
   "cell_type": "code",
   "execution_count": null,
   "id": "c507cc7d-d39c-4f0f-ba28-a8f9546faa81",
   "metadata": {},
   "outputs": [],
   "source": [
    "cmhs = data.drop(columns=data.columns[~data.columns.str.match(\"^(meanQ|TrustCode)\")]).merge(trust_lookup, how='left', on='TrustCode')\n",
    "cmhs.loc[cmhs.CCG21CDH.isnull()].to_csv('scratch/cmhs_failure.csv')\n",
    "cmhs = cmhs.loc[~cmhs.CCG21CDH.isnull()].groupby('CCG21CD').agg('mean')\n",
    "cmhs.columns = cmhs.columns.str.replace(r'mean(.*)', r'CMHS \\1 Mean', regex=True)\n",
    "cmhs.round(3).to_csv('data/cmhs.processed.csv')"
   ]
  },
  {
   "cell_type": "code",
   "execution_count": null,
   "id": "59eaae08-2b91-4f22-a70a-1a6dbc0510a0",
   "metadata": {},
   "outputs": [],
   "source": []
  }
 ],
 "metadata": {
  "kernelspec": {
   "display_name": "Python 3 (ipykernel)",
   "language": "python",
   "name": "python3"
  },
  "language_info": {
   "codemirror_mode": {
    "name": "ipython",
    "version": 3
   },
   "file_extension": ".py",
   "mimetype": "text/x-python",
   "name": "python",
   "nbconvert_exporter": "python",
   "pygments_lexer": "ipython3",
   "version": "3.9.7"
  }
 },
 "nbformat": 4,
 "nbformat_minor": 5
}
