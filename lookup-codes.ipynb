{
 "cells": [
  {
   "cell_type": "code",
   "execution_count": null,
   "id": "bf7fd141-76ae-4168-a477-4855b8f8bcab",
   "metadata": {},
   "outputs": [],
   "source": [
    "!pip install pandas"
   ]
  },
  {
   "cell_type": "code",
   "execution_count": null,
   "id": "194b8227-1f8c-4a72-a821-7a27b9c8df9b",
   "metadata": {},
   "outputs": [],
   "source": [
    "import pandas as pd\n",
    "import numpy as np"
   ]
  },
  {
   "cell_type": "markdown",
   "id": "8ad13343-9700-4d97-a3b0-f2a767a081ad",
   "metadata": {},
   "source": [
    "Load the lookup from CCG to LAD (also, LSOA, although we're not using that yet)"
   ]
  },
  {
   "cell_type": "code",
   "execution_count": null,
   "id": "d6bfc140-8c87-4cfa-82fa-0e04538b9469",
   "metadata": {},
   "outputs": [],
   "source": [
    "lad_lookup = pd.read_csv(\n",
    "    'data/Lower_Layer_Super_Output_Area_(2011)_to_Clinical_Commissioning_Group_to_Local_Authority_District_(April_2021)_Lookup_in_England.csv'\n",
    ")\n",
    "lad_lookup.drop(\n",
    "    labels = ['FID', 'LSOA11CD', 'LSOA11NM'], axis=1\n",
    ").drop_duplicates().to_csv('data/ccg_lad_lookup.csv', index=False)"
   ]
  },
  {
   "cell_type": "markdown",
   "id": "fcf5efa6-c5c5-4668-8402-4d2a7ec9daed",
   "metadata": {},
   "source": [
    "Create the CCG Lookup. This will be the master reference."
   ]
  },
  {
   "cell_type": "code",
   "execution_count": null,
   "id": "af82af9a-a703-444b-9a41-7000f5d6b8eb",
   "metadata": {},
   "outputs": [],
   "source": [
    "ccg_lookup = lad_lookup.drop(axis=1, labels=['FID', 'LSOA11CD', 'LSOA11NM', 'LAD21CD', 'LAD21NM']).drop_duplicates()\n",
    "ccg_lookup.to_csv('data/ccg_lookup.csv', index=False)"
   ]
  },
  {
   "cell_type": "markdown",
   "id": "a6734181-f4b8-4ea6-bfa0-20eab1b45d3e",
   "metadata": {},
   "source": [
    "Load the IAPT file to extract the trust lookup"
   ]
  },
  {
   "cell_type": "code",
   "execution_count": null,
   "id": "54207a70-1629-444f-a1e5-2095d0797336",
   "metadata": {},
   "outputs": [],
   "source": [
    "trust_lookup = pd.read_csv('data/iapt-month-time-series-sep-2020-sep-2021.csv').drop(\n",
    "    labels=[\n",
    "        'REPORTING_PERIOD_START',\n",
    "        'REPORTING_PERIOD_END',\n",
    "        'GROUP_TYPE',\n",
    "        'MEASURE_ID',\n",
    "        'MEASURE_NAME',\n",
    "        'MEASURE_VALUE'\n",
    "    ],\n",
    "    axis=1\n",
    ").drop_duplicates()\n",
    "trust_lookup = trust_lookup[pd.DataFrame([trust_lookup.ORG_CODE1 != 'all', trust_lookup.ORG_CODE2 != 'all']).all()]\n",
    "trust_lookup.columns = [\n",
    "    'CCG21CDH', 'ccg_name', 'trust_code', 'trust_name'\n",
    "]\n",
    "trust_lookup.to_csv('data/trust_ccg_lookup.csv', index=False)"
   ]
  },
  {
   "cell_type": "code",
   "execution_count": null,
   "id": "7b35e26e-0536-4d48-b60b-bfa29df6072a",
   "metadata": {},
   "outputs": [],
   "source": []
  }
 ],
 "metadata": {
  "kernelspec": {
   "display_name": "Python 3 (ipykernel)",
   "language": "python",
   "name": "python3"
  },
  "language_info": {
   "codemirror_mode": {
    "name": "ipython",
    "version": 3
   },
   "file_extension": ".py",
   "mimetype": "text/x-python",
   "name": "python",
   "nbconvert_exporter": "python",
   "pygments_lexer": "ipython3",
   "version": "3.9.7"
  }
 },
 "nbformat": 4,
 "nbformat_minor": 5
}
