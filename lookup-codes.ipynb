{
 "cells": [
  {
   "cell_type": "code",
   "execution_count": null,
   "id": "bf7fd141-76ae-4168-a477-4855b8f8bcab",
   "metadata": {},
   "outputs": [],
   "source": [
    "!pip install pandas"
   ]
  },
  {
   "cell_type": "code",
   "execution_count": null,
   "id": "194b8227-1f8c-4a72-a821-7a27b9c8df9b",
   "metadata": {},
   "outputs": [],
   "source": [
    "import pandas as pd\n",
    "import numpy as np"
   ]
  },
  {
   "cell_type": "markdown",
   "id": "8ad13343-9700-4d97-a3b0-f2a767a081ad",
   "metadata": {},
   "source": [
    "Load the lookup from CCG to LAD (also, LSOA, although we're not using that yet)"
   ]
  },
  {
   "cell_type": "code",
   "execution_count": null,
   "id": "d6bfc140-8c87-4cfa-82fa-0e04538b9469",
   "metadata": {},
   "outputs": [],
   "source": [
    "lad_lookup = pd.read_csv(\n",
    "    'data/Lower_Layer_Super_Output_Area_(2011)_to_Clinical_Commissioning_Group_to_Local_Authority_District_(April_2021)_Lookup_in_England.csv'\n",
    ")\n",
    "lad_lookup.drop(\n",
    "    labels = ['FID', 'LSOA11CD', 'LSOA11NM'], axis=1\n",
    ").drop_duplicates().to_csv('data/ccg_lad_lookup.csv', index=False)"
   ]
  },
  {
   "cell_type": "markdown",
   "id": "a6734181-f4b8-4ea6-bfa0-20eab1b45d3e",
   "metadata": {},
   "source": [
    "Load the IAPT file to extract the trust lookup"
   ]
  },
  {
   "cell_type": "code",
   "execution_count": null,
   "id": "54207a70-1629-444f-a1e5-2095d0797336",
   "metadata": {},
   "outputs": [],
   "source": [
    "trust_lookup = pd.read_csv('data/iapt-month-time-series-sep-2020-sep-2021.csv').drop(\n",
    "    labels=[\n",
    "        'REPORTING_PERIOD_START',\n",
    "        'REPORTING_PERIOD_END',\n",
    "        'GROUP_TYPE',\n",
    "        'MEASURE_ID',\n",
    "        'MEASURE_NAME',\n",
    "        'MEASURE_VALUE'\n",
    "    ],\n",
    "    axis=1\n",
    ").drop_duplicates()\n",
    "trust_lookup = trust_lookup[pd.DataFrame([trust_lookup.ORG_CODE1 != 'all', trust_lookup.ORG_CODE2 != 'all']).all()]\n",
    "trust_lookup.columns = [\n",
    "    'CCG21CDH', 'ccg_name', 'trust_code', 'trust_name'\n",
    "]\n",
    "trust_lookup.to_csv('data/trust_ccg_lookup.csv', index=False)"
   ]
  },
  {
   "cell_type": "markdown",
   "id": "924e1c7f-d7d1-4b21-b17b-2580f98e2263",
   "metadata": {},
   "source": [
    "Download CCG20 reference file from https://geoportal.statistics.gov.uk/datasets/clinical-commissioning-groups-april-2020-names-and-codes-in-england/explore"
   ]
  },
  {
   "cell_type": "code",
   "execution_count": null,
   "id": "7b35e26e-0536-4d48-b60b-bfa29df6072a",
   "metadata": {},
   "outputs": [],
   "source": [
    "ccg20 = pd.read_csv('https://opendata.arcgis.com/api/v3/datasets/bfb87228cf9e4c44bad0cffa353d0fc8_0/downloads/data?format=csv&spatialRefId=4326').drop(columns=['FID'])\n",
    "ccg20.to_csv('data/ref_ccg20.csv', index=False)"
   ]
  },
  {
   "cell_type": "markdown",
   "id": "5fa8d9f4-b77f-488f-8cbb-bcb35375447e",
   "metadata": {},
   "source": [
    "Download CCG21 reference file from https://geoportal.statistics.gov.uk/datasets/clinical-commissioning-groups-april-2021-names-and-codes-in-england/explore"
   ]
  },
  {
   "cell_type": "code",
   "execution_count": null,
   "id": "244bd6ca-c957-42d6-8446-e4535c8f0b15",
   "metadata": {},
   "outputs": [],
   "source": [
    "ccg21 = pd.read_csv('https://opendata.arcgis.com/api/v3/datasets/48fc517976fd495c80a2fbde97b103e6_0/downloads/data?format=csv&spatialRefId=4326').drop(columns=['FID'])\n",
    "ccg21.to_csv('data/ref_ccg21.csv', index=False)"
   ]
  },
  {
   "cell_type": "code",
   "execution_count": null,
   "id": "3590cdd3-21c5-4355-b7b7-a86357137e9c",
   "metadata": {},
   "outputs": [],
   "source": []
  }
 ],
 "metadata": {
  "kernelspec": {
   "display_name": "Python 3 (ipykernel)",
   "language": "python",
   "name": "python3"
  },
  "language_info": {
   "codemirror_mode": {
    "name": "ipython",
    "version": 3
   },
   "file_extension": ".py",
   "mimetype": "text/x-python",
   "name": "python",
   "nbconvert_exporter": "python",
   "pygments_lexer": "ipython3",
   "version": "3.9.7"
  }
 },
 "nbformat": 4,
 "nbformat_minor": 5
}
