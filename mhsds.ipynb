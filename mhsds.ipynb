{
 "cells": [
  {
   "cell_type": "code",
   "execution_count": null,
   "id": "046d901b-2762-4140-ad4e-08728cc6c7dc",
   "metadata": {},
   "outputs": [],
   "source": [
    "!pip install pandas"
   ]
  },
  {
   "cell_type": "code",
   "execution_count": null,
   "id": "1364c624-e718-4cd8-b2b2-b2c2ef2d9a20",
   "metadata": {},
   "outputs": [],
   "source": [
    "import os\n",
    "import pandas as pd"
   ]
  },
  {
   "cell_type": "markdown",
   "id": "b8602677-fca3-424d-80f7-98ef7d225aef",
   "metadata": {},
   "source": [
    "Load some lookups"
   ]
  },
  {
   "cell_type": "code",
   "execution_count": null,
   "id": "49e94038-2219-44a6-88cb-51cc1bc2fa9a",
   "metadata": {},
   "outputs": [],
   "source": [
    "trust_lookup = pd.read_csv('data/trust_ccg_lookup_ods_datapoint.csv').drop(columns=['Name', 'Primary Role Name', 'Geographic Primary Care Organisation Name'])\n",
    "trust_lookup.columns = ['trust_code', 'CCG21CDH']\n",
    "ccg = pd.read_csv('data/ref_ccg21.csv')"
   ]
  },
  {
   "cell_type": "markdown",
   "id": "a7c17a84-b7b8-4020-b849-f60077d09491",
   "metadata": {},
   "source": [
    "Load the MHSDS file, reshape (drop average rows, working columns) and attach codes. Save a file with errors in it."
   ]
  },
  {
   "cell_type": "code",
   "execution_count": null,
   "id": "042a686f-a544-4c75-bf25-a71cb486ee87",
   "metadata": {},
   "outputs": [],
   "source": [
    "mhsds = pd.read_csv('source/MHSDS Data_Rstr_Sep_Nov_2020.csv', header=[0,1], na_values=['#DIV/0!']).fillna(0)\n",
    "mhsds.columns = mhsds.columns.map('_'.join)\n",
    "mhsds = mhsds.rename(columns={\n",
    "    'Unnamed: 0_level_0_LEVEL_ONE': 'trust_code',\n",
    "    'Unnamed: 1_level_0_REPORTING_PERIOD_START': 'reporting_period_start'\n",
    "})\n",
    "\n",
    "mhsds = mhsds.loc[~mhsds.trust_code.str.match('.*Average')]\n",
    "mhsds = mhsds.drop(columns=[\n",
    "       'Chemical restraint - Injection (Non Rapid Tranquillisation)_BAME',\n",
    "       'Chemical restraint - Injection (Non Rapid Tranquillisation)_Non-BAME',\n",
    "       'Chemical restraint - Injection (Non Rapid Tranquillisation)_Unknown/Not Stated',\n",
    "       'Chemical restraint - Injection (Rapid Tranquillisation)_BAME',\n",
    "       'Chemical restraint - Injection (Rapid Tranquillisation)_Non-BAME',\n",
    "       'Chemical restraint - Injection (Rapid Tranquillisation)_Unknown/Not Stated',\n",
    "       'Chemical restraint - Oral_BAME', 'Chemical restraint - Oral_Non-BAME',\n",
    "       'Chemical restraint - Oral_Unknown/Not Stated',\n",
    "       'Chemical restraint - Other (not listed)_BAME',\n",
    "       'Chemical restraint - Other (not listed)_Non-BAME',\n",
    "       'Chemical restraint - Other (not listed)_Unknown/Not Stated',\n",
    "       'Physical restraint - Kneeling_BAME',\n",
    "       'Physical restraint - Kneeling_Non-BAME',\n",
    "       'Physical restraint - Kneeling_Unknown/Not Stated',\n",
    "       'Physical restraint - Other (not listed)_BAME',\n",
    "       'Physical restraint - Other (not listed)_Non-BAME',\n",
    "       'Physical restraint - Other (not listed)_Unknown/Not Stated',\n",
    "       'Physical restraint - Prone_BAME',\n",
    "       'Physical restraint - Prone_Non-BAME',\n",
    "       'Physical restraint - Prone_Unknown/Not Stated',\n",
    "       'Physical restraint - Restrictive escort_BAME',\n",
    "       'Physical restraint - Restrictive escort_Non-BAME',\n",
    "       'Physical restraint - Restrictive escort_Unknown/Not Stated',\n",
    "       'Physical restraint - Seated_BAME',\n",
    "       'Physical restraint - Seated_Non-BAME',\n",
    "       'Physical restraint - Seated_Unknown/Not Stated',\n",
    "       'Physical restraint - Side_BAME', 'Physical restraint - Side_Non-BAME',\n",
    "       'Physical restraint - Side_Unknown/Not Stated',\n",
    "       'Physical restraint - Standing_BAME',\n",
    "       'Physical restraint - Standing_Non-BAME',\n",
    "       'Physical restraint - Standing_Unknown/Not Stated',\n",
    "       'Physical restraint - Supine_BAME',\n",
    "       'Physical restraint - Supine_Non-BAME',\n",
    "       'Physical restraint - Supine_Unknown/Not Stated'\n",
    "])\n",
    "mhsds = mhsds.merge(trust_lookup, how='left', on='trust_code').merge(ccg, how='left', on='CCG21CDH')\n",
    "mhsds.loc[mhsds.CCG21CD.isnull()].to_csv('scratch/mhsds_errors.csv')\n",
    "mhsds = mhsds.loc[~mhsds.CCG21CD.isnull()]"
   ]
  },
  {
   "cell_type": "markdown",
   "id": "ff1f962b-b4f1-437a-bc96-0b5c1f19276b",
   "metadata": {},
   "source": [
    "Create the output file, aggegating by average on the CCG21 codes, and tidy up column names."
   ]
  },
  {
   "cell_type": "code",
   "execution_count": null,
   "id": "90826dc7-2037-42e2-a180-fd96500f9b5e",
   "metadata": {},
   "outputs": [],
   "source": [
    "output = mhsds.groupby('CCG21CD').mean().round(3)\n",
    "output.columns = output.columns.str.replace(r'(.*)_(.*)', r'\\1 (\\2)', regex=True)"
   ]
  },
  {
   "cell_type": "markdown",
   "id": "0a33e0ff-08b3-4f51-9f3c-68833c5e60ab",
   "metadata": {},
   "source": [
    "Save to csv file"
   ]
  },
  {
   "cell_type": "code",
   "execution_count": null,
   "id": "3c6060d3-4a65-44da-be08-f8cd997ac8c0",
   "metadata": {},
   "outputs": [],
   "source": [
    "output.to_csv('data/mhsds.processed.csv')"
   ]
  },
  {
   "cell_type": "code",
   "execution_count": null,
   "id": "3c458954-5980-45ae-bcca-f17a95fb9b1f",
   "metadata": {},
   "outputs": [],
   "source": []
  }
 ],
 "metadata": {
  "kernelspec": {
   "display_name": "Python 3 (ipykernel)",
   "language": "python",
   "name": "python3"
  },
  "language_info": {
   "codemirror_mode": {
    "name": "ipython",
    "version": 3
   },
   "file_extension": ".py",
   "mimetype": "text/x-python",
   "name": "python",
   "nbconvert_exporter": "python",
   "pygments_lexer": "ipython3",
   "version": "3.9.7"
  }
 },
 "nbformat": 4,
 "nbformat_minor": 5
}
